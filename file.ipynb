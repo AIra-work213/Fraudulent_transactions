{
 "cells": [
  {
   "cell_type": "markdown",
   "id": "42aab9b4",
   "metadata": {},
   "source": [
    "ML модель для поиска мошеннических транзакций"
   ]
  },
  {
   "cell_type": "code",
   "execution_count": 6,
   "id": "4443ad5d",
   "metadata": {},
   "outputs": [],
   "source": [
    "import pandas as pd"
   ]
  },
  {
   "cell_type": "code",
   "execution_count": 7,
   "id": "84412cfa",
   "metadata": {},
   "outputs": [
    {
     "data": {
      "application/vnd.microsoft.datawrangler.viewer.v0+json": {
       "columns": [
        {
         "name": "index",
         "rawType": "int64",
         "type": "integer"
        },
        {
         "name": "Time",
         "rawType": "float64",
         "type": "float"
        },
        {
         "name": "V1",
         "rawType": "float64",
         "type": "float"
        },
        {
         "name": "V2",
         "rawType": "float64",
         "type": "float"
        },
        {
         "name": "V3",
         "rawType": "float64",
         "type": "float"
        },
        {
         "name": "V4",
         "rawType": "float64",
         "type": "float"
        },
        {
         "name": "V5",
         "rawType": "float64",
         "type": "float"
        },
        {
         "name": "V6",
         "rawType": "float64",
         "type": "float"
        },
        {
         "name": "V7",
         "rawType": "float64",
         "type": "float"
        },
        {
         "name": "V8",
         "rawType": "float64",
         "type": "float"
        },
        {
         "name": "V9",
         "rawType": "float64",
         "type": "float"
        },
        {
         "name": "V10",
         "rawType": "float64",
         "type": "float"
        },
        {
         "name": "V11",
         "rawType": "float64",
         "type": "float"
        },
        {
         "name": "V12",
         "rawType": "float64",
         "type": "float"
        },
        {
         "name": "V13",
         "rawType": "float64",
         "type": "float"
        },
        {
         "name": "V14",
         "rawType": "float64",
         "type": "float"
        },
        {
         "name": "V15",
         "rawType": "float64",
         "type": "float"
        },
        {
         "name": "V16",
         "rawType": "float64",
         "type": "float"
        },
        {
         "name": "V17",
         "rawType": "float64",
         "type": "float"
        },
        {
         "name": "V18",
         "rawType": "float64",
         "type": "float"
        },
        {
         "name": "V19",
         "rawType": "float64",
         "type": "float"
        },
        {
         "name": "V20",
         "rawType": "float64",
         "type": "float"
        },
        {
         "name": "V21",
         "rawType": "float64",
         "type": "float"
        },
        {
         "name": "V22",
         "rawType": "float64",
         "type": "float"
        },
        {
         "name": "V23",
         "rawType": "float64",
         "type": "float"
        },
        {
         "name": "V24",
         "rawType": "float64",
         "type": "float"
        },
        {
         "name": "V25",
         "rawType": "float64",
         "type": "float"
        },
        {
         "name": "V26",
         "rawType": "float64",
         "type": "float"
        },
        {
         "name": "V27",
         "rawType": "float64",
         "type": "float"
        },
        {
         "name": "V28",
         "rawType": "float64",
         "type": "float"
        },
        {
         "name": "Amount",
         "rawType": "float64",
         "type": "float"
        },
        {
         "name": "Class",
         "rawType": "int64",
         "type": "integer"
        }
       ],
       "conversionMethod": "pd.DataFrame",
       "ref": "b192b8d5-dc45-45d9-b947-930b3af43e6f",
       "rows": [
        [
         "0",
         "0.0",
         "-1.3598071336738",
         "-0.0727811733098497",
         "2.53634673796914",
         "1.37815522427443",
         "-0.338320769942518",
         "0.462387777762292",
         "0.239598554061257",
         "0.0986979012610507",
         "0.363786969611213",
         "0.0907941719789316",
         "-0.551599533260813",
         "-0.617800855762348",
         "-0.991389847235408",
         "-0.311169353699879",
         "1.46817697209427",
         "-0.470400525259478",
         "0.207971241929242",
         "0.0257905801985591",
         "0.403992960255733",
         "0.251412098239705",
         "-0.018306777944153",
         "0.277837575558899",
         "-0.110473910188767",
         "0.0669280749146731",
         "0.128539358273528",
         "-0.189114843888824",
         "0.133558376740387",
         "-0.0210530534538215",
         "149.62",
         "0"
        ],
        [
         "1",
         "0.0",
         "1.19185711131486",
         "0.26615071205963",
         "0.16648011335321",
         "0.448154078460911",
         "0.0600176492822243",
         "-0.0823608088155687",
         "-0.0788029833323113",
         "0.0851016549148104",
         "-0.255425128109186",
         "-0.166974414004614",
         "1.61272666105479",
         "1.06523531137287",
         "0.48909501589608",
         "-0.143772296441519",
         "0.635558093258208",
         "0.463917041022171",
         "-0.114804663102346",
         "-0.183361270123994",
         "-0.145783041325259",
         "-0.0690831352230203",
         "-0.225775248033138",
         "-0.638671952771851",
         "0.101288021253234",
         "-0.339846475529127",
         "0.167170404418143",
         "0.125894532368176",
         "-0.0089830991432281",
         "0.0147241691924927",
         "2.69",
         "0"
        ],
        [
         "2",
         "1.0",
         "-1.35835406159823",
         "-1.34016307473609",
         "1.77320934263119",
         "0.379779593034328",
         "-0.503198133318193",
         "1.80049938079263",
         "0.791460956450422",
         "0.247675786588991",
         "-1.51465432260583",
         "0.207642865216696",
         "0.624501459424895",
         "0.066083685268831",
         "0.717292731410831",
         "-0.165945922763554",
         "2.34586494901581",
         "-2.89008319444231",
         "1.10996937869599",
         "-0.121359313195888",
         "-2.26185709530414",
         "0.524979725224404",
         "0.247998153469754",
         "0.771679401917229",
         "0.909412262347719",
         "-0.689280956490685",
         "-0.327641833735251",
         "-0.139096571514147",
         "-0.0553527940384261",
         "-0.0597518405929204",
         "378.66",
         "0"
        ],
        [
         "3",
         "1.0",
         "-0.966271711572087",
         "-0.185226008082898",
         "1.79299333957872",
         "-0.863291275036453",
         "-0.0103088796030823",
         "1.24720316752486",
         "0.23760893977178",
         "0.377435874652262",
         "-1.38702406270197",
         "-0.0549519224713749",
         "-0.226487263835401",
         "0.178228225877303",
         "0.507756869957169",
         "-0.28792374549456",
         "-0.631418117709045",
         "-1.0596472454325",
         "-0.684092786345479",
         "1.96577500349538",
         "-1.2326219700892",
         "-0.208037781160366",
         "-0.108300452035545",
         "0.0052735967825345",
         "-0.190320518742841",
         "-1.17557533186321",
         "0.647376034602038",
         "-0.221928844458407",
         "0.0627228487293033",
         "0.0614576285006353",
         "123.5",
         "0"
        ],
        [
         "4",
         "2.0",
         "-1.15823309349523",
         "0.877736754848451",
         "1.548717846511",
         "0.403033933955121",
         "-0.407193377311653",
         "0.0959214624684256",
         "0.592940745385545",
         "-0.270532677192282",
         "0.817739308235294",
         "0.753074431976354",
         "-0.822842877946363",
         "0.53819555014995",
         "1.3458515932154",
         "-1.11966983471731",
         "0.175121130008994",
         "-0.451449182813529",
         "-0.237033239362776",
         "-0.0381947870352842",
         "0.803486924960175",
         "0.408542360392758",
         "-0.0094306971323291",
         "0.79827849458971",
         "-0.137458079619063",
         "0.141266983824769",
         "-0.206009587619756",
         "0.502292224181569",
         "0.219422229513348",
         "0.215153147499206",
         "69.99",
         "0"
        ]
       ],
       "shape": {
        "columns": 31,
        "rows": 5
       }
      },
      "text/html": [
       "<div>\n",
       "<style scoped>\n",
       "    .dataframe tbody tr th:only-of-type {\n",
       "        vertical-align: middle;\n",
       "    }\n",
       "\n",
       "    .dataframe tbody tr th {\n",
       "        vertical-align: top;\n",
       "    }\n",
       "\n",
       "    .dataframe thead th {\n",
       "        text-align: right;\n",
       "    }\n",
       "</style>\n",
       "<table border=\"1\" class=\"dataframe\">\n",
       "  <thead>\n",
       "    <tr style=\"text-align: right;\">\n",
       "      <th></th>\n",
       "      <th>Time</th>\n",
       "      <th>V1</th>\n",
       "      <th>V2</th>\n",
       "      <th>V3</th>\n",
       "      <th>V4</th>\n",
       "      <th>V5</th>\n",
       "      <th>V6</th>\n",
       "      <th>V7</th>\n",
       "      <th>V8</th>\n",
       "      <th>V9</th>\n",
       "      <th>...</th>\n",
       "      <th>V21</th>\n",
       "      <th>V22</th>\n",
       "      <th>V23</th>\n",
       "      <th>V24</th>\n",
       "      <th>V25</th>\n",
       "      <th>V26</th>\n",
       "      <th>V27</th>\n",
       "      <th>V28</th>\n",
       "      <th>Amount</th>\n",
       "      <th>Class</th>\n",
       "    </tr>\n",
       "  </thead>\n",
       "  <tbody>\n",
       "    <tr>\n",
       "      <th>0</th>\n",
       "      <td>0.0</td>\n",
       "      <td>-1.359807</td>\n",
       "      <td>-0.072781</td>\n",
       "      <td>2.536347</td>\n",
       "      <td>1.378155</td>\n",
       "      <td>-0.338321</td>\n",
       "      <td>0.462388</td>\n",
       "      <td>0.239599</td>\n",
       "      <td>0.098698</td>\n",
       "      <td>0.363787</td>\n",
       "      <td>...</td>\n",
       "      <td>-0.018307</td>\n",
       "      <td>0.277838</td>\n",
       "      <td>-0.110474</td>\n",
       "      <td>0.066928</td>\n",
       "      <td>0.128539</td>\n",
       "      <td>-0.189115</td>\n",
       "      <td>0.133558</td>\n",
       "      <td>-0.021053</td>\n",
       "      <td>149.62</td>\n",
       "      <td>0</td>\n",
       "    </tr>\n",
       "    <tr>\n",
       "      <th>1</th>\n",
       "      <td>0.0</td>\n",
       "      <td>1.191857</td>\n",
       "      <td>0.266151</td>\n",
       "      <td>0.166480</td>\n",
       "      <td>0.448154</td>\n",
       "      <td>0.060018</td>\n",
       "      <td>-0.082361</td>\n",
       "      <td>-0.078803</td>\n",
       "      <td>0.085102</td>\n",
       "      <td>-0.255425</td>\n",
       "      <td>...</td>\n",
       "      <td>-0.225775</td>\n",
       "      <td>-0.638672</td>\n",
       "      <td>0.101288</td>\n",
       "      <td>-0.339846</td>\n",
       "      <td>0.167170</td>\n",
       "      <td>0.125895</td>\n",
       "      <td>-0.008983</td>\n",
       "      <td>0.014724</td>\n",
       "      <td>2.69</td>\n",
       "      <td>0</td>\n",
       "    </tr>\n",
       "    <tr>\n",
       "      <th>2</th>\n",
       "      <td>1.0</td>\n",
       "      <td>-1.358354</td>\n",
       "      <td>-1.340163</td>\n",
       "      <td>1.773209</td>\n",
       "      <td>0.379780</td>\n",
       "      <td>-0.503198</td>\n",
       "      <td>1.800499</td>\n",
       "      <td>0.791461</td>\n",
       "      <td>0.247676</td>\n",
       "      <td>-1.514654</td>\n",
       "      <td>...</td>\n",
       "      <td>0.247998</td>\n",
       "      <td>0.771679</td>\n",
       "      <td>0.909412</td>\n",
       "      <td>-0.689281</td>\n",
       "      <td>-0.327642</td>\n",
       "      <td>-0.139097</td>\n",
       "      <td>-0.055353</td>\n",
       "      <td>-0.059752</td>\n",
       "      <td>378.66</td>\n",
       "      <td>0</td>\n",
       "    </tr>\n",
       "    <tr>\n",
       "      <th>3</th>\n",
       "      <td>1.0</td>\n",
       "      <td>-0.966272</td>\n",
       "      <td>-0.185226</td>\n",
       "      <td>1.792993</td>\n",
       "      <td>-0.863291</td>\n",
       "      <td>-0.010309</td>\n",
       "      <td>1.247203</td>\n",
       "      <td>0.237609</td>\n",
       "      <td>0.377436</td>\n",
       "      <td>-1.387024</td>\n",
       "      <td>...</td>\n",
       "      <td>-0.108300</td>\n",
       "      <td>0.005274</td>\n",
       "      <td>-0.190321</td>\n",
       "      <td>-1.175575</td>\n",
       "      <td>0.647376</td>\n",
       "      <td>-0.221929</td>\n",
       "      <td>0.062723</td>\n",
       "      <td>0.061458</td>\n",
       "      <td>123.50</td>\n",
       "      <td>0</td>\n",
       "    </tr>\n",
       "    <tr>\n",
       "      <th>4</th>\n",
       "      <td>2.0</td>\n",
       "      <td>-1.158233</td>\n",
       "      <td>0.877737</td>\n",
       "      <td>1.548718</td>\n",
       "      <td>0.403034</td>\n",
       "      <td>-0.407193</td>\n",
       "      <td>0.095921</td>\n",
       "      <td>0.592941</td>\n",
       "      <td>-0.270533</td>\n",
       "      <td>0.817739</td>\n",
       "      <td>...</td>\n",
       "      <td>-0.009431</td>\n",
       "      <td>0.798278</td>\n",
       "      <td>-0.137458</td>\n",
       "      <td>0.141267</td>\n",
       "      <td>-0.206010</td>\n",
       "      <td>0.502292</td>\n",
       "      <td>0.219422</td>\n",
       "      <td>0.215153</td>\n",
       "      <td>69.99</td>\n",
       "      <td>0</td>\n",
       "    </tr>\n",
       "  </tbody>\n",
       "</table>\n",
       "<p>5 rows × 31 columns</p>\n",
       "</div>"
      ],
      "text/plain": [
       "   Time        V1        V2        V3        V4        V5        V6        V7  \\\n",
       "0   0.0 -1.359807 -0.072781  2.536347  1.378155 -0.338321  0.462388  0.239599   \n",
       "1   0.0  1.191857  0.266151  0.166480  0.448154  0.060018 -0.082361 -0.078803   \n",
       "2   1.0 -1.358354 -1.340163  1.773209  0.379780 -0.503198  1.800499  0.791461   \n",
       "3   1.0 -0.966272 -0.185226  1.792993 -0.863291 -0.010309  1.247203  0.237609   \n",
       "4   2.0 -1.158233  0.877737  1.548718  0.403034 -0.407193  0.095921  0.592941   \n",
       "\n",
       "         V8        V9  ...       V21       V22       V23       V24       V25  \\\n",
       "0  0.098698  0.363787  ... -0.018307  0.277838 -0.110474  0.066928  0.128539   \n",
       "1  0.085102 -0.255425  ... -0.225775 -0.638672  0.101288 -0.339846  0.167170   \n",
       "2  0.247676 -1.514654  ...  0.247998  0.771679  0.909412 -0.689281 -0.327642   \n",
       "3  0.377436 -1.387024  ... -0.108300  0.005274 -0.190321 -1.175575  0.647376   \n",
       "4 -0.270533  0.817739  ... -0.009431  0.798278 -0.137458  0.141267 -0.206010   \n",
       "\n",
       "        V26       V27       V28  Amount  Class  \n",
       "0 -0.189115  0.133558 -0.021053  149.62      0  \n",
       "1  0.125895 -0.008983  0.014724    2.69      0  \n",
       "2 -0.139097 -0.055353 -0.059752  378.66      0  \n",
       "3 -0.221929  0.062723  0.061458  123.50      0  \n",
       "4  0.502292  0.219422  0.215153   69.99      0  \n",
       "\n",
       "[5 rows x 31 columns]"
      ]
     },
     "execution_count": 7,
     "metadata": {},
     "output_type": "execute_result"
    }
   ],
   "source": [
    "df = pd.read_csv('creditcard.csv')\n",
    "df.head()"
   ]
  },
  {
   "cell_type": "code",
   "execution_count": 8,
   "id": "2f376178",
   "metadata": {},
   "outputs": [
    {
     "name": "stdout",
     "output_type": "stream",
     "text": [
      "<class 'pandas.core.frame.DataFrame'>\n",
      "RangeIndex: 284807 entries, 0 to 284806\n",
      "Data columns (total 31 columns):\n",
      " #   Column  Non-Null Count   Dtype  \n",
      "---  ------  --------------   -----  \n",
      " 0   Time    284807 non-null  float64\n",
      " 1   V1      284807 non-null  float64\n",
      " 2   V2      284807 non-null  float64\n",
      " 3   V3      284807 non-null  float64\n",
      " 4   V4      284807 non-null  float64\n",
      " 5   V5      284807 non-null  float64\n",
      " 6   V6      284807 non-null  float64\n",
      " 7   V7      284807 non-null  float64\n",
      " 8   V8      284807 non-null  float64\n",
      " 9   V9      284807 non-null  float64\n",
      " 10  V10     284807 non-null  float64\n",
      " 11  V11     284807 non-null  float64\n",
      " 12  V12     284807 non-null  float64\n",
      " 13  V13     284807 non-null  float64\n",
      " 14  V14     284807 non-null  float64\n",
      " 15  V15     284807 non-null  float64\n",
      " 16  V16     284807 non-null  float64\n",
      " 17  V17     284807 non-null  float64\n",
      " 18  V18     284807 non-null  float64\n",
      " 19  V19     284807 non-null  float64\n",
      " 20  V20     284807 non-null  float64\n",
      " 21  V21     284807 non-null  float64\n",
      " 22  V22     284807 non-null  float64\n",
      " 23  V23     284807 non-null  float64\n",
      " 24  V24     284807 non-null  float64\n",
      " 25  V25     284807 non-null  float64\n",
      " 26  V26     284807 non-null  float64\n",
      " 27  V27     284807 non-null  float64\n",
      " 28  V28     284807 non-null  float64\n",
      " 29  Amount  284807 non-null  float64\n",
      " 30  Class   284807 non-null  int64  \n",
      "dtypes: float64(30), int64(1)\n",
      "memory usage: 67.4 MB\n"
     ]
    }
   ],
   "source": [
    "df.info()"
   ]
  },
  {
   "cell_type": "code",
   "execution_count": 9,
   "id": "ec4ae319",
   "metadata": {},
   "outputs": [
    {
     "data": {
      "text/plain": [
       "Class\n",
       "0    284315\n",
       "1       492\n",
       "Name: count, dtype: int64"
      ]
     },
     "execution_count": 9,
     "metadata": {},
     "output_type": "execute_result"
    }
   ],
   "source": [
    "df['Class'].value_counts()"
   ]
  },
  {
   "cell_type": "code",
   "execution_count": null,
   "id": "f6b1902f",
   "metadata": {},
   "outputs": [],
   "source": [
    "df.drop('Time', axis=1, inplace=True)"
   ]
  },
  {
   "cell_type": "code",
   "execution_count": 17,
   "id": "6a459e65",
   "metadata": {},
   "outputs": [
    {
     "data": {
      "text/plain": [
       "<Axes: >"
      ]
     },
     "execution_count": 17,
     "metadata": {},
     "output_type": "execute_result"
    },
    {
     "data": {
      "image/png": "[encoded data removed]",
      "text/plain": [
       "<Figure size 640x480 with 2 Axes>"
      ]
     },
     "metadata": {},
     "output_type": "display_data"
    }
   ],
   "source": [
    "import seaborn as sb\n",
    "\n",
    "sb.heatmap(df.corr())"
   ]
  },
  {
   "cell_type": "code",
   "execution_count": 24,
   "id": "1f2d0fbf",
   "metadata": {},
   "outputs": [],
   "source": [
    "x = df.drop('Class', axis=1)\n",
    "y = df['Class']"
   ]
  },
  {
   "cell_type": "code",
   "execution_count": null,
   "id": "b251cfa7",
   "metadata": {},
   "outputs": [
    {
     "data": {
      "application/vnd.microsoft.datawrangler.viewer.v0+json": {
       "columns": [
        {
         "name": "index",
         "rawType": "int64",
         "type": "integer"
        },
        {
         "name": "params",
         "rawType": "object",
         "type": "unknown"
        },
        {
         "name": "mean_test_score",
         "rawType": "float64",
         "type": "float"
        },
        {
         "name": "std_test_score",
         "rawType": "float64",
         "type": "float"
        },
        {
         "name": "rank_test_score",
         "rawType": "int32",
         "type": "integer"
        }
       ],
       "conversionMethod": "pd.DataFrame",
       "ref": "b04b48a5-fd8d-416f-a182-09b561f4ec86",
       "rows": [
        [
         "0",
         "{'C': 0.01}",
         "0.6684551116978993",
         "0.10038577341290066",
         "1"
        ],
        [
         "1",
         "{'C': 0.001}",
         "0.34876378429263044",
         "0.17721881219108243",
         "2"
        ],
        [
         "2",
         "{'C': 0.0001}",
         "0.0",
         "0.0",
         "3"
        ]
       ],
       "shape": {
        "columns": 4,
        "rows": 3
       }
      },
      "text/html": [
       "<div>\n",
       "<style scoped>\n",
       "    .dataframe tbody tr th:only-of-type {\n",
       "        vertical-align: middle;\n",
       "    }\n",
       "\n",
       "    .dataframe tbody tr th {\n",
       "        vertical-align: top;\n",
       "    }\n",
       "\n",
       "    .dataframe thead th {\n",
       "        text-align: right;\n",
       "    }\n",
       "</style>\n",
       "<table border=\"1\" class=\"dataframe\">\n",
       "  <thead>\n",
       "    <tr style=\"text-align: right;\">\n",
       "      <th></th>\n",
       "      <th>params</th>\n",
       "      <th>mean_test_score</th>\n",
       "      <th>std_test_score</th>\n",
       "      <th>rank_test_score</th>\n",
       "    </tr>\n",
       "  </thead>\n",
       "  <tbody>\n",
       "    <tr>\n",
       "      <th>0</th>\n",
       "      <td>{'C': 0.01}</td>\n",
       "      <td>0.668455</td>\n",
       "      <td>0.100386</td>\n",
       "      <td>1</td>\n",
       "    </tr>\n",
       "    <tr>\n",
       "      <th>1</th>\n",
       "      <td>{'C': 0.001}</td>\n",
       "      <td>0.348764</td>\n",
       "      <td>0.177219</td>\n",
       "      <td>2</td>\n",
       "    </tr>\n",
       "    <tr>\n",
       "      <th>2</th>\n",
       "      <td>{'C': 0.0001}</td>\n",
       "      <td>0.000000</td>\n",
       "      <td>0.000000</td>\n",
       "      <td>3</td>\n",
       "    </tr>\n",
       "  </tbody>\n",
       "</table>\n",
       "</div>"
      ],
      "text/plain": [
       "          params  mean_test_score  std_test_score  rank_test_score\n",
       "0    {'C': 0.01}         0.668455        0.100386                1\n",
       "1   {'C': 0.001}         0.348764        0.177219                2\n",
       "2  {'C': 0.0001}         0.000000        0.000000                3"
      ]
     },
     "execution_count": 42,
     "metadata": {},
     "output_type": "execute_result"
    }
   ],
   "source": [
    "from sklearn.model_selection import cross_val_score, GridSearchCV\n",
    "from sklearn.linear_model import LogisticRegression\n",
    "from sklearn.preprocessing import StandardScaler\n",
    "\n",
    "\n",
    "params = {\n",
    "    'C':[0.1, 0.01, 0.001, 0.0001]\n",
    "}\n",
    "model = LogisticRegression(penalty='l2', max_iter=100, solver='liblinear')\n",
    "grid_search = GridSearchCV(model, params, scoring='f1', cv=5)\n",
    "grid_search.fit(x, y)\n",
    "# Таблица параметров\n",
    "result_params = pd.DataFrame(grid_search.cv_results_)\n",
    "result_params[['params', 'mean_test_score', 'std_test_score', 'rank_test_score']].sort_values('rank_test_score').head()"
   ]
  },
  {
   "cell_type": "code",
   "execution_count": null,
   "id": "78aa8615",
   "metadata": {},
   "outputs": [
    {
     "data": {
      "text/plain": [
       "np.float64(0.9228571428571428)"
      ]
     },
     "execution_count": 36,
     "metadata": {},
     "output_type": "execute_result"
    }
   ],
   "source": [
    "grid_search.best_score_"
   ]
  },
  {
   "cell_type": "code",
   "execution_count": null,
   "id": "18f2c0e8",
   "metadata": {},
   "outputs": [],
   "source": [
    "from xgboost import XGBClassifier\n",
    "\n",
    "\n",
    "model_xgb = XGBClassifier()\n",
    "model_xgb()"
   ]
  },
  {
   "cell_type": "code",
   "execution_count": null,
   "id": "e15d86e6",
   "metadata": {},
   "outputs": [],
   "source": [
    "from sklearn.ensemble import RandomForestClassifier\n",
    "\n",
    "\n",
    "model_2 = RandomForestClassifier()"
   ]
  }
 ],
 "metadata": {
  "kernelspec": {
   "display_name": "venv",
   "language": "python",
   "name": "python3"
  },
  "language_info": {
   "codemirror_mode": {
    "name": "ipython",
    "version": 3
   },
   "file_extension": ".py",
   "mimetype": "text/x-python",
   "name": "python",
   "nbconvert_exporter": "python",
   "pygments_lexer": "ipython3",
   "version": "3.12.3"
  }
 },
 "nbformat": 4,
 "nbformat_minor": 5
}
